{
 "cells": [
  {
   "cell_type": "code",
   "execution_count": 2,
   "id": "7209fc5b",
   "metadata": {},
   "outputs": [],
   "source": [
    "# Linear algebra and data processing\n",
    "import numpy as np\n",
    "import pandas as pd\n",
    "\n",
    "#visualisations\n",
    "import seaborn as sns\n",
    "import matplotlib.pyplot as plt\n",
    "\n",
    "# data preprocessing\n",
    "from sklearn.impute import SimpleImputer\n",
    "from sklearn.preprocessing import LabelEncoder, OneHotEncoder, StandardScaler\n",
    "from sklearn.compose import ColumnTransformer\n",
    "from sklearn.pipeline import Pipeline\n",
    "\n",
    "# math and statistics\n",
    "from scipy import stats\n",
    "from scipy.stats import skew, norm\n",
    "from scipy.special import boxcox1p\n",
    "from scipy.stats import boxcox_normmax\n",
    "\n",
    "# ignore warnings\n",
    "import warnings\n",
    "warnings.filterwarnings(action=\"ignore\")"
   ]
  },
  {
   "cell_type": "code",
   "execution_count": 3,
   "id": "5e595ed1",
   "metadata": {},
   "outputs": [],
   "source": [
    "df_train = pd.read_csv('file:///home/papineau/Pharmaceutical_Sales_prediction_across_multiple_stores/data/train.csv')"
   ]
  },
  {
   "cell_type": "code",
   "execution_count": 4,
   "id": "9fd6d6bb",
   "metadata": {},
   "outputs": [],
   "source": [
    "df_test = pd.read_csv('file:///home/papineau/Pharmaceutical_Sales_prediction_across_multiple_stores/data/test.csv')"
   ]
  },
  {
   "cell_type": "code",
   "execution_count": 5,
   "id": "bee356a2",
   "metadata": {},
   "outputs": [],
   "source": [
    "df_store = pd.read_csv('file:///home/papineau/Pharmaceutical_Sales_prediction_across_multiple_stores/data/store.csv')"
   ]
  },
  {
   "cell_type": "markdown",
   "id": "38850831",
   "metadata": {},
   "source": [
    "## Short description:\n",
    "\n",
    "- Id - an Id that represents a (Store, Date) duple within the test set\n",
    "- Sales: the turnover for any given day (target variable).\n",
    "- Customers: the number of customers on a given day.\n",
    "- Open: an indicator for whether the store was open: 0 = closed, 1 = open.\n",
    "- Promo: indicates whether a store is running a promo on that day.\n",
    "- StateHoliday: indicates a state holiday. Normally all stores, with few exceptions, are closed on state holidays.\n",
    "- SchoolHoliday: indicates if the (Store, Date) was affected by the closure of public schools.\n",
    "- Store: a unique Id for each store\n",
    "- StoreType: differentiates between 4 different store models: a, b, c, d\n",
    "- Assortment: describes an assortment level: a = basic, b = extra, c = extended\n",
    "- CompetitionDistance: distance in meters to the nearest competitor store 8 CompetitionOpenSince[Month/Year]: gives the approximate year and month of the time the nearest competitor was opened\n",
    "- Promo2: Promo2 is a continuing a promotion for some stores: 0 = store is not participating, 1 = store is participating\n",
    "- Promo2Since[Year/Week]: describes the year and calendar week when the store started participating in Promo2\n",
    "- PromoInterval: describes the consecutive intervals Promo2 is started, naming the months the promotion is started. E.g. \"Feb,May,Aug,Nov\" means each round starts in February, May, August, November of any given year for that store"
   ]
  },
  {
   "cell_type": "code",
   "execution_count": 6,
   "id": "74695aac",
   "metadata": {},
   "outputs": [
    {
     "data": {
      "text/html": [
       "<div>\n",
       "<style scoped>\n",
       "    .dataframe tbody tr th:only-of-type {\n",
       "        vertical-align: middle;\n",
       "    }\n",
       "\n",
       "    .dataframe tbody tr th {\n",
       "        vertical-align: top;\n",
       "    }\n",
       "\n",
       "    .dataframe thead th {\n",
       "        text-align: right;\n",
       "    }\n",
       "</style>\n",
       "<table border=\"1\" class=\"dataframe\">\n",
       "  <thead>\n",
       "    <tr style=\"text-align: right;\">\n",
       "      <th></th>\n",
       "      <th>Store</th>\n",
       "      <th>DayOfWeek</th>\n",
       "      <th>Date</th>\n",
       "      <th>Sales</th>\n",
       "      <th>Customers</th>\n",
       "      <th>Open</th>\n",
       "      <th>Promo</th>\n",
       "      <th>StateHoliday</th>\n",
       "      <th>SchoolHoliday</th>\n",
       "    </tr>\n",
       "  </thead>\n",
       "  <tbody>\n",
       "    <tr>\n",
       "      <th>0</th>\n",
       "      <td>1</td>\n",
       "      <td>5</td>\n",
       "      <td>2015-07-31</td>\n",
       "      <td>5263</td>\n",
       "      <td>555</td>\n",
       "      <td>1</td>\n",
       "      <td>1</td>\n",
       "      <td>0</td>\n",
       "      <td>1</td>\n",
       "    </tr>\n",
       "    <tr>\n",
       "      <th>1</th>\n",
       "      <td>2</td>\n",
       "      <td>5</td>\n",
       "      <td>2015-07-31</td>\n",
       "      <td>6064</td>\n",
       "      <td>625</td>\n",
       "      <td>1</td>\n",
       "      <td>1</td>\n",
       "      <td>0</td>\n",
       "      <td>1</td>\n",
       "    </tr>\n",
       "    <tr>\n",
       "      <th>2</th>\n",
       "      <td>3</td>\n",
       "      <td>5</td>\n",
       "      <td>2015-07-31</td>\n",
       "      <td>8314</td>\n",
       "      <td>821</td>\n",
       "      <td>1</td>\n",
       "      <td>1</td>\n",
       "      <td>0</td>\n",
       "      <td>1</td>\n",
       "    </tr>\n",
       "    <tr>\n",
       "      <th>3</th>\n",
       "      <td>4</td>\n",
       "      <td>5</td>\n",
       "      <td>2015-07-31</td>\n",
       "      <td>13995</td>\n",
       "      <td>1498</td>\n",
       "      <td>1</td>\n",
       "      <td>1</td>\n",
       "      <td>0</td>\n",
       "      <td>1</td>\n",
       "    </tr>\n",
       "    <tr>\n",
       "      <th>4</th>\n",
       "      <td>5</td>\n",
       "      <td>5</td>\n",
       "      <td>2015-07-31</td>\n",
       "      <td>4822</td>\n",
       "      <td>559</td>\n",
       "      <td>1</td>\n",
       "      <td>1</td>\n",
       "      <td>0</td>\n",
       "      <td>1</td>\n",
       "    </tr>\n",
       "    <tr>\n",
       "      <th>...</th>\n",
       "      <td>...</td>\n",
       "      <td>...</td>\n",
       "      <td>...</td>\n",
       "      <td>...</td>\n",
       "      <td>...</td>\n",
       "      <td>...</td>\n",
       "      <td>...</td>\n",
       "      <td>...</td>\n",
       "      <td>...</td>\n",
       "    </tr>\n",
       "    <tr>\n",
       "      <th>1017204</th>\n",
       "      <td>1111</td>\n",
       "      <td>2</td>\n",
       "      <td>2013-01-01</td>\n",
       "      <td>0</td>\n",
       "      <td>0</td>\n",
       "      <td>0</td>\n",
       "      <td>0</td>\n",
       "      <td>a</td>\n",
       "      <td>1</td>\n",
       "    </tr>\n",
       "    <tr>\n",
       "      <th>1017205</th>\n",
       "      <td>1112</td>\n",
       "      <td>2</td>\n",
       "      <td>2013-01-01</td>\n",
       "      <td>0</td>\n",
       "      <td>0</td>\n",
       "      <td>0</td>\n",
       "      <td>0</td>\n",
       "      <td>a</td>\n",
       "      <td>1</td>\n",
       "    </tr>\n",
       "    <tr>\n",
       "      <th>1017206</th>\n",
       "      <td>1113</td>\n",
       "      <td>2</td>\n",
       "      <td>2013-01-01</td>\n",
       "      <td>0</td>\n",
       "      <td>0</td>\n",
       "      <td>0</td>\n",
       "      <td>0</td>\n",
       "      <td>a</td>\n",
       "      <td>1</td>\n",
       "    </tr>\n",
       "    <tr>\n",
       "      <th>1017207</th>\n",
       "      <td>1114</td>\n",
       "      <td>2</td>\n",
       "      <td>2013-01-01</td>\n",
       "      <td>0</td>\n",
       "      <td>0</td>\n",
       "      <td>0</td>\n",
       "      <td>0</td>\n",
       "      <td>a</td>\n",
       "      <td>1</td>\n",
       "    </tr>\n",
       "    <tr>\n",
       "      <th>1017208</th>\n",
       "      <td>1115</td>\n",
       "      <td>2</td>\n",
       "      <td>2013-01-01</td>\n",
       "      <td>0</td>\n",
       "      <td>0</td>\n",
       "      <td>0</td>\n",
       "      <td>0</td>\n",
       "      <td>a</td>\n",
       "      <td>1</td>\n",
       "    </tr>\n",
       "  </tbody>\n",
       "</table>\n",
       "<p>1017209 rows × 9 columns</p>\n",
       "</div>"
      ],
      "text/plain": [
       "         Store  DayOfWeek        Date  Sales  Customers  Open  Promo  \\\n",
       "0            1          5  2015-07-31   5263        555     1      1   \n",
       "1            2          5  2015-07-31   6064        625     1      1   \n",
       "2            3          5  2015-07-31   8314        821     1      1   \n",
       "3            4          5  2015-07-31  13995       1498     1      1   \n",
       "4            5          5  2015-07-31   4822        559     1      1   \n",
       "...        ...        ...         ...    ...        ...   ...    ...   \n",
       "1017204   1111          2  2013-01-01      0          0     0      0   \n",
       "1017205   1112          2  2013-01-01      0          0     0      0   \n",
       "1017206   1113          2  2013-01-01      0          0     0      0   \n",
       "1017207   1114          2  2013-01-01      0          0     0      0   \n",
       "1017208   1115          2  2013-01-01      0          0     0      0   \n",
       "\n",
       "        StateHoliday  SchoolHoliday  \n",
       "0                  0              1  \n",
       "1                  0              1  \n",
       "2                  0              1  \n",
       "3                  0              1  \n",
       "4                  0              1  \n",
       "...              ...            ...  \n",
       "1017204            a              1  \n",
       "1017205            a              1  \n",
       "1017206            a              1  \n",
       "1017207            a              1  \n",
       "1017208            a              1  \n",
       "\n",
       "[1017209 rows x 9 columns]"
      ]
     },
     "execution_count": 6,
     "metadata": {},
     "output_type": "execute_result"
    }
   ],
   "source": [
    "df_train\n"
   ]
  },
  {
   "cell_type": "code",
   "execution_count": 7,
   "id": "f783fcbe",
   "metadata": {},
   "outputs": [
    {
     "data": {
      "text/plain": [
       "9154881"
      ]
     },
     "execution_count": 7,
     "metadata": {},
     "output_type": "execute_result"
    }
   ],
   "source": [
    "# Display size of the data on training set\n",
    "df_train.size"
   ]
  },
  {
   "cell_type": "code",
   "execution_count": 8,
   "id": "83ce4c92",
   "metadata": {},
   "outputs": [
    {
     "data": {
      "text/html": [
       "<div>\n",
       "<style scoped>\n",
       "    .dataframe tbody tr th:only-of-type {\n",
       "        vertical-align: middle;\n",
       "    }\n",
       "\n",
       "    .dataframe tbody tr th {\n",
       "        vertical-align: top;\n",
       "    }\n",
       "\n",
       "    .dataframe thead th {\n",
       "        text-align: right;\n",
       "    }\n",
       "</style>\n",
       "<table border=\"1\" class=\"dataframe\">\n",
       "  <thead>\n",
       "    <tr style=\"text-align: right;\">\n",
       "      <th></th>\n",
       "      <th>Store</th>\n",
       "      <th>DayOfWeek</th>\n",
       "      <th>Sales</th>\n",
       "      <th>Customers</th>\n",
       "      <th>Open</th>\n",
       "      <th>Promo</th>\n",
       "      <th>SchoolHoliday</th>\n",
       "    </tr>\n",
       "  </thead>\n",
       "  <tbody>\n",
       "    <tr>\n",
       "      <th>count</th>\n",
       "      <td>1.017209e+06</td>\n",
       "      <td>1.017209e+06</td>\n",
       "      <td>1.017209e+06</td>\n",
       "      <td>1.017209e+06</td>\n",
       "      <td>1.017209e+06</td>\n",
       "      <td>1.017209e+06</td>\n",
       "      <td>1.017209e+06</td>\n",
       "    </tr>\n",
       "    <tr>\n",
       "      <th>mean</th>\n",
       "      <td>5.584297e+02</td>\n",
       "      <td>3.998341e+00</td>\n",
       "      <td>5.773819e+03</td>\n",
       "      <td>6.331459e+02</td>\n",
       "      <td>8.301067e-01</td>\n",
       "      <td>3.815145e-01</td>\n",
       "      <td>1.786467e-01</td>\n",
       "    </tr>\n",
       "    <tr>\n",
       "      <th>std</th>\n",
       "      <td>3.219087e+02</td>\n",
       "      <td>1.997391e+00</td>\n",
       "      <td>3.849926e+03</td>\n",
       "      <td>4.644117e+02</td>\n",
       "      <td>3.755392e-01</td>\n",
       "      <td>4.857586e-01</td>\n",
       "      <td>3.830564e-01</td>\n",
       "    </tr>\n",
       "    <tr>\n",
       "      <th>min</th>\n",
       "      <td>1.000000e+00</td>\n",
       "      <td>1.000000e+00</td>\n",
       "      <td>0.000000e+00</td>\n",
       "      <td>0.000000e+00</td>\n",
       "      <td>0.000000e+00</td>\n",
       "      <td>0.000000e+00</td>\n",
       "      <td>0.000000e+00</td>\n",
       "    </tr>\n",
       "    <tr>\n",
       "      <th>25%</th>\n",
       "      <td>2.800000e+02</td>\n",
       "      <td>2.000000e+00</td>\n",
       "      <td>3.727000e+03</td>\n",
       "      <td>4.050000e+02</td>\n",
       "      <td>1.000000e+00</td>\n",
       "      <td>0.000000e+00</td>\n",
       "      <td>0.000000e+00</td>\n",
       "    </tr>\n",
       "    <tr>\n",
       "      <th>50%</th>\n",
       "      <td>5.580000e+02</td>\n",
       "      <td>4.000000e+00</td>\n",
       "      <td>5.744000e+03</td>\n",
       "      <td>6.090000e+02</td>\n",
       "      <td>1.000000e+00</td>\n",
       "      <td>0.000000e+00</td>\n",
       "      <td>0.000000e+00</td>\n",
       "    </tr>\n",
       "    <tr>\n",
       "      <th>75%</th>\n",
       "      <td>8.380000e+02</td>\n",
       "      <td>6.000000e+00</td>\n",
       "      <td>7.856000e+03</td>\n",
       "      <td>8.370000e+02</td>\n",
       "      <td>1.000000e+00</td>\n",
       "      <td>1.000000e+00</td>\n",
       "      <td>0.000000e+00</td>\n",
       "    </tr>\n",
       "    <tr>\n",
       "      <th>max</th>\n",
       "      <td>1.115000e+03</td>\n",
       "      <td>7.000000e+00</td>\n",
       "      <td>4.155100e+04</td>\n",
       "      <td>7.388000e+03</td>\n",
       "      <td>1.000000e+00</td>\n",
       "      <td>1.000000e+00</td>\n",
       "      <td>1.000000e+00</td>\n",
       "    </tr>\n",
       "  </tbody>\n",
       "</table>\n",
       "</div>"
      ],
      "text/plain": [
       "              Store     DayOfWeek         Sales     Customers          Open  \\\n",
       "count  1.017209e+06  1.017209e+06  1.017209e+06  1.017209e+06  1.017209e+06   \n",
       "mean   5.584297e+02  3.998341e+00  5.773819e+03  6.331459e+02  8.301067e-01   \n",
       "std    3.219087e+02  1.997391e+00  3.849926e+03  4.644117e+02  3.755392e-01   \n",
       "min    1.000000e+00  1.000000e+00  0.000000e+00  0.000000e+00  0.000000e+00   \n",
       "25%    2.800000e+02  2.000000e+00  3.727000e+03  4.050000e+02  1.000000e+00   \n",
       "50%    5.580000e+02  4.000000e+00  5.744000e+03  6.090000e+02  1.000000e+00   \n",
       "75%    8.380000e+02  6.000000e+00  7.856000e+03  8.370000e+02  1.000000e+00   \n",
       "max    1.115000e+03  7.000000e+00  4.155100e+04  7.388000e+03  1.000000e+00   \n",
       "\n",
       "              Promo  SchoolHoliday  \n",
       "count  1.017209e+06   1.017209e+06  \n",
       "mean   3.815145e-01   1.786467e-01  \n",
       "std    4.857586e-01   3.830564e-01  \n",
       "min    0.000000e+00   0.000000e+00  \n",
       "25%    0.000000e+00   0.000000e+00  \n",
       "50%    0.000000e+00   0.000000e+00  \n",
       "75%    1.000000e+00   0.000000e+00  \n",
       "max    1.000000e+00   1.000000e+00  "
      ]
     },
     "execution_count": 8,
     "metadata": {},
     "output_type": "execute_result"
    }
   ],
   "source": [
    "df_train.describe()"
   ]
  },
  {
   "cell_type": "code",
   "execution_count": 9,
   "id": "282a3a05",
   "metadata": {},
   "outputs": [
    {
     "data": {
      "text/plain": [
       "328704"
      ]
     },
     "execution_count": 9,
     "metadata": {},
     "output_type": "execute_result"
    }
   ],
   "source": [
    "# Display size of the data on testing set\n",
    "df_test.size"
   ]
  },
  {
   "cell_type": "code",
   "execution_count": 10,
   "id": "28203ca2",
   "metadata": {},
   "outputs": [
    {
     "data": {
      "text/html": [
       "<div>\n",
       "<style scoped>\n",
       "    .dataframe tbody tr th:only-of-type {\n",
       "        vertical-align: middle;\n",
       "    }\n",
       "\n",
       "    .dataframe tbody tr th {\n",
       "        vertical-align: top;\n",
       "    }\n",
       "\n",
       "    .dataframe thead th {\n",
       "        text-align: right;\n",
       "    }\n",
       "</style>\n",
       "<table border=\"1\" class=\"dataframe\">\n",
       "  <thead>\n",
       "    <tr style=\"text-align: right;\">\n",
       "      <th></th>\n",
       "      <th>Id</th>\n",
       "      <th>Store</th>\n",
       "      <th>DayOfWeek</th>\n",
       "      <th>Open</th>\n",
       "      <th>Promo</th>\n",
       "      <th>SchoolHoliday</th>\n",
       "    </tr>\n",
       "  </thead>\n",
       "  <tbody>\n",
       "    <tr>\n",
       "      <th>count</th>\n",
       "      <td>41088.000000</td>\n",
       "      <td>41088.000000</td>\n",
       "      <td>41088.000000</td>\n",
       "      <td>41077.000000</td>\n",
       "      <td>41088.000000</td>\n",
       "      <td>41088.000000</td>\n",
       "    </tr>\n",
       "    <tr>\n",
       "      <th>mean</th>\n",
       "      <td>20544.500000</td>\n",
       "      <td>555.899533</td>\n",
       "      <td>3.979167</td>\n",
       "      <td>0.854322</td>\n",
       "      <td>0.395833</td>\n",
       "      <td>0.443487</td>\n",
       "    </tr>\n",
       "    <tr>\n",
       "      <th>std</th>\n",
       "      <td>11861.228267</td>\n",
       "      <td>320.274496</td>\n",
       "      <td>2.015481</td>\n",
       "      <td>0.352787</td>\n",
       "      <td>0.489035</td>\n",
       "      <td>0.496802</td>\n",
       "    </tr>\n",
       "    <tr>\n",
       "      <th>min</th>\n",
       "      <td>1.000000</td>\n",
       "      <td>1.000000</td>\n",
       "      <td>1.000000</td>\n",
       "      <td>0.000000</td>\n",
       "      <td>0.000000</td>\n",
       "      <td>0.000000</td>\n",
       "    </tr>\n",
       "    <tr>\n",
       "      <th>25%</th>\n",
       "      <td>10272.750000</td>\n",
       "      <td>279.750000</td>\n",
       "      <td>2.000000</td>\n",
       "      <td>1.000000</td>\n",
       "      <td>0.000000</td>\n",
       "      <td>0.000000</td>\n",
       "    </tr>\n",
       "    <tr>\n",
       "      <th>50%</th>\n",
       "      <td>20544.500000</td>\n",
       "      <td>553.500000</td>\n",
       "      <td>4.000000</td>\n",
       "      <td>1.000000</td>\n",
       "      <td>0.000000</td>\n",
       "      <td>0.000000</td>\n",
       "    </tr>\n",
       "    <tr>\n",
       "      <th>75%</th>\n",
       "      <td>30816.250000</td>\n",
       "      <td>832.250000</td>\n",
       "      <td>6.000000</td>\n",
       "      <td>1.000000</td>\n",
       "      <td>1.000000</td>\n",
       "      <td>1.000000</td>\n",
       "    </tr>\n",
       "    <tr>\n",
       "      <th>max</th>\n",
       "      <td>41088.000000</td>\n",
       "      <td>1115.000000</td>\n",
       "      <td>7.000000</td>\n",
       "      <td>1.000000</td>\n",
       "      <td>1.000000</td>\n",
       "      <td>1.000000</td>\n",
       "    </tr>\n",
       "  </tbody>\n",
       "</table>\n",
       "</div>"
      ],
      "text/plain": [
       "                 Id         Store     DayOfWeek          Open         Promo  \\\n",
       "count  41088.000000  41088.000000  41088.000000  41077.000000  41088.000000   \n",
       "mean   20544.500000    555.899533      3.979167      0.854322      0.395833   \n",
       "std    11861.228267    320.274496      2.015481      0.352787      0.489035   \n",
       "min        1.000000      1.000000      1.000000      0.000000      0.000000   \n",
       "25%    10272.750000    279.750000      2.000000      1.000000      0.000000   \n",
       "50%    20544.500000    553.500000      4.000000      1.000000      0.000000   \n",
       "75%    30816.250000    832.250000      6.000000      1.000000      1.000000   \n",
       "max    41088.000000   1115.000000      7.000000      1.000000      1.000000   \n",
       "\n",
       "       SchoolHoliday  \n",
       "count   41088.000000  \n",
       "mean        0.443487  \n",
       "std         0.496802  \n",
       "min         0.000000  \n",
       "25%         0.000000  \n",
       "50%         0.000000  \n",
       "75%         1.000000  \n",
       "max         1.000000  "
      ]
     },
     "execution_count": 10,
     "metadata": {},
     "output_type": "execute_result"
    }
   ],
   "source": [
    "df_test.describe()"
   ]
  },
  {
   "cell_type": "code",
   "execution_count": 11,
   "id": "c9fb1b2e",
   "metadata": {},
   "outputs": [
    {
     "data": {
      "text/html": [
       "<div>\n",
       "<style scoped>\n",
       "    .dataframe tbody tr th:only-of-type {\n",
       "        vertical-align: middle;\n",
       "    }\n",
       "\n",
       "    .dataframe tbody tr th {\n",
       "        vertical-align: top;\n",
       "    }\n",
       "\n",
       "    .dataframe thead th {\n",
       "        text-align: right;\n",
       "    }\n",
       "</style>\n",
       "<table border=\"1\" class=\"dataframe\">\n",
       "  <thead>\n",
       "    <tr style=\"text-align: right;\">\n",
       "      <th></th>\n",
       "      <th>Store</th>\n",
       "      <th>StoreType</th>\n",
       "      <th>Assortment</th>\n",
       "      <th>CompetitionDistance</th>\n",
       "      <th>CompetitionOpenSinceMonth</th>\n",
       "      <th>CompetitionOpenSinceYear</th>\n",
       "      <th>Promo2</th>\n",
       "      <th>Promo2SinceWeek</th>\n",
       "      <th>Promo2SinceYear</th>\n",
       "      <th>PromoInterval</th>\n",
       "    </tr>\n",
       "  </thead>\n",
       "  <tbody>\n",
       "    <tr>\n",
       "      <th>0</th>\n",
       "      <td>1</td>\n",
       "      <td>c</td>\n",
       "      <td>a</td>\n",
       "      <td>1270.0</td>\n",
       "      <td>9.0</td>\n",
       "      <td>2008.0</td>\n",
       "      <td>0</td>\n",
       "      <td>NaN</td>\n",
       "      <td>NaN</td>\n",
       "      <td>NaN</td>\n",
       "    </tr>\n",
       "    <tr>\n",
       "      <th>1</th>\n",
       "      <td>2</td>\n",
       "      <td>a</td>\n",
       "      <td>a</td>\n",
       "      <td>570.0</td>\n",
       "      <td>11.0</td>\n",
       "      <td>2007.0</td>\n",
       "      <td>1</td>\n",
       "      <td>13.0</td>\n",
       "      <td>2010.0</td>\n",
       "      <td>Jan,Apr,Jul,Oct</td>\n",
       "    </tr>\n",
       "    <tr>\n",
       "      <th>2</th>\n",
       "      <td>3</td>\n",
       "      <td>a</td>\n",
       "      <td>a</td>\n",
       "      <td>14130.0</td>\n",
       "      <td>12.0</td>\n",
       "      <td>2006.0</td>\n",
       "      <td>1</td>\n",
       "      <td>14.0</td>\n",
       "      <td>2011.0</td>\n",
       "      <td>Jan,Apr,Jul,Oct</td>\n",
       "    </tr>\n",
       "    <tr>\n",
       "      <th>3</th>\n",
       "      <td>4</td>\n",
       "      <td>c</td>\n",
       "      <td>c</td>\n",
       "      <td>620.0</td>\n",
       "      <td>9.0</td>\n",
       "      <td>2009.0</td>\n",
       "      <td>0</td>\n",
       "      <td>NaN</td>\n",
       "      <td>NaN</td>\n",
       "      <td>NaN</td>\n",
       "    </tr>\n",
       "    <tr>\n",
       "      <th>4</th>\n",
       "      <td>5</td>\n",
       "      <td>a</td>\n",
       "      <td>a</td>\n",
       "      <td>29910.0</td>\n",
       "      <td>4.0</td>\n",
       "      <td>2015.0</td>\n",
       "      <td>0</td>\n",
       "      <td>NaN</td>\n",
       "      <td>NaN</td>\n",
       "      <td>NaN</td>\n",
       "    </tr>\n",
       "    <tr>\n",
       "      <th>...</th>\n",
       "      <td>...</td>\n",
       "      <td>...</td>\n",
       "      <td>...</td>\n",
       "      <td>...</td>\n",
       "      <td>...</td>\n",
       "      <td>...</td>\n",
       "      <td>...</td>\n",
       "      <td>...</td>\n",
       "      <td>...</td>\n",
       "      <td>...</td>\n",
       "    </tr>\n",
       "    <tr>\n",
       "      <th>1110</th>\n",
       "      <td>1111</td>\n",
       "      <td>a</td>\n",
       "      <td>a</td>\n",
       "      <td>1900.0</td>\n",
       "      <td>6.0</td>\n",
       "      <td>2014.0</td>\n",
       "      <td>1</td>\n",
       "      <td>31.0</td>\n",
       "      <td>2013.0</td>\n",
       "      <td>Jan,Apr,Jul,Oct</td>\n",
       "    </tr>\n",
       "    <tr>\n",
       "      <th>1111</th>\n",
       "      <td>1112</td>\n",
       "      <td>c</td>\n",
       "      <td>c</td>\n",
       "      <td>1880.0</td>\n",
       "      <td>4.0</td>\n",
       "      <td>2006.0</td>\n",
       "      <td>0</td>\n",
       "      <td>NaN</td>\n",
       "      <td>NaN</td>\n",
       "      <td>NaN</td>\n",
       "    </tr>\n",
       "    <tr>\n",
       "      <th>1112</th>\n",
       "      <td>1113</td>\n",
       "      <td>a</td>\n",
       "      <td>c</td>\n",
       "      <td>9260.0</td>\n",
       "      <td>NaN</td>\n",
       "      <td>NaN</td>\n",
       "      <td>0</td>\n",
       "      <td>NaN</td>\n",
       "      <td>NaN</td>\n",
       "      <td>NaN</td>\n",
       "    </tr>\n",
       "    <tr>\n",
       "      <th>1113</th>\n",
       "      <td>1114</td>\n",
       "      <td>a</td>\n",
       "      <td>c</td>\n",
       "      <td>870.0</td>\n",
       "      <td>NaN</td>\n",
       "      <td>NaN</td>\n",
       "      <td>0</td>\n",
       "      <td>NaN</td>\n",
       "      <td>NaN</td>\n",
       "      <td>NaN</td>\n",
       "    </tr>\n",
       "    <tr>\n",
       "      <th>1114</th>\n",
       "      <td>1115</td>\n",
       "      <td>d</td>\n",
       "      <td>c</td>\n",
       "      <td>5350.0</td>\n",
       "      <td>NaN</td>\n",
       "      <td>NaN</td>\n",
       "      <td>1</td>\n",
       "      <td>22.0</td>\n",
       "      <td>2012.0</td>\n",
       "      <td>Mar,Jun,Sept,Dec</td>\n",
       "    </tr>\n",
       "  </tbody>\n",
       "</table>\n",
       "<p>1115 rows × 10 columns</p>\n",
       "</div>"
      ],
      "text/plain": [
       "      Store StoreType Assortment  CompetitionDistance  \\\n",
       "0         1         c          a               1270.0   \n",
       "1         2         a          a                570.0   \n",
       "2         3         a          a              14130.0   \n",
       "3         4         c          c                620.0   \n",
       "4         5         a          a              29910.0   \n",
       "...     ...       ...        ...                  ...   \n",
       "1110   1111         a          a               1900.0   \n",
       "1111   1112         c          c               1880.0   \n",
       "1112   1113         a          c               9260.0   \n",
       "1113   1114         a          c                870.0   \n",
       "1114   1115         d          c               5350.0   \n",
       "\n",
       "      CompetitionOpenSinceMonth  CompetitionOpenSinceYear  Promo2  \\\n",
       "0                           9.0                    2008.0       0   \n",
       "1                          11.0                    2007.0       1   \n",
       "2                          12.0                    2006.0       1   \n",
       "3                           9.0                    2009.0       0   \n",
       "4                           4.0                    2015.0       0   \n",
       "...                         ...                       ...     ...   \n",
       "1110                        6.0                    2014.0       1   \n",
       "1111                        4.0                    2006.0       0   \n",
       "1112                        NaN                       NaN       0   \n",
       "1113                        NaN                       NaN       0   \n",
       "1114                        NaN                       NaN       1   \n",
       "\n",
       "      Promo2SinceWeek  Promo2SinceYear     PromoInterval  \n",
       "0                 NaN              NaN               NaN  \n",
       "1                13.0           2010.0   Jan,Apr,Jul,Oct  \n",
       "2                14.0           2011.0   Jan,Apr,Jul,Oct  \n",
       "3                 NaN              NaN               NaN  \n",
       "4                 NaN              NaN               NaN  \n",
       "...               ...              ...               ...  \n",
       "1110             31.0           2013.0   Jan,Apr,Jul,Oct  \n",
       "1111              NaN              NaN               NaN  \n",
       "1112              NaN              NaN               NaN  \n",
       "1113              NaN              NaN               NaN  \n",
       "1114             22.0           2012.0  Mar,Jun,Sept,Dec  \n",
       "\n",
       "[1115 rows x 10 columns]"
      ]
     },
     "execution_count": 11,
     "metadata": {},
     "output_type": "execute_result"
    }
   ],
   "source": [
    "df_store\n"
   ]
  },
  {
   "cell_type": "code",
   "execution_count": 12,
   "id": "4a6044ab",
   "metadata": {},
   "outputs": [
    {
     "data": {
      "text/plain": [
       "11150"
      ]
     },
     "execution_count": 12,
     "metadata": {},
     "output_type": "execute_result"
    }
   ],
   "source": [
    "df_store.size"
   ]
  },
  {
   "cell_type": "code",
   "execution_count": 13,
   "id": "5ee129ae",
   "metadata": {},
   "outputs": [
    {
     "name": "stdout",
     "output_type": "stream",
     "text": [
      "<class 'pandas.core.frame.DataFrame'>\n",
      "RangeIndex: 1017209 entries, 0 to 1017208\n",
      "Data columns (total 9 columns):\n",
      " #   Column         Non-Null Count    Dtype \n",
      "---  ------         --------------    ----- \n",
      " 0   Store          1017209 non-null  int64 \n",
      " 1   DayOfWeek      1017209 non-null  int64 \n",
      " 2   Date           1017209 non-null  object\n",
      " 3   Sales          1017209 non-null  int64 \n",
      " 4   Customers      1017209 non-null  int64 \n",
      " 5   Open           1017209 non-null  int64 \n",
      " 6   Promo          1017209 non-null  int64 \n",
      " 7   StateHoliday   1017209 non-null  object\n",
      " 8   SchoolHoliday  1017209 non-null  int64 \n",
      "dtypes: int64(7), object(2)\n",
      "memory usage: 69.8+ MB\n"
     ]
    }
   ],
   "source": [
    "df_train.info()"
   ]
  },
  {
   "cell_type": "code",
   "execution_count": 14,
   "id": "9b4eb878",
   "metadata": {},
   "outputs": [
    {
     "name": "stdout",
     "output_type": "stream",
     "text": [
      "<class 'pandas.core.frame.DataFrame'>\n",
      "RangeIndex: 41088 entries, 0 to 41087\n",
      "Data columns (total 8 columns):\n",
      " #   Column         Non-Null Count  Dtype  \n",
      "---  ------         --------------  -----  \n",
      " 0   Id             41088 non-null  int64  \n",
      " 1   Store          41088 non-null  int64  \n",
      " 2   DayOfWeek      41088 non-null  int64  \n",
      " 3   Date           41088 non-null  object \n",
      " 4   Open           41077 non-null  float64\n",
      " 5   Promo          41088 non-null  int64  \n",
      " 6   StateHoliday   41088 non-null  object \n",
      " 7   SchoolHoliday  41088 non-null  int64  \n",
      "dtypes: float64(1), int64(5), object(2)\n",
      "memory usage: 2.5+ MB\n"
     ]
    }
   ],
   "source": [
    "df_test.info()"
   ]
  },
  {
   "cell_type": "code",
   "execution_count": 15,
   "id": "012a6ea6",
   "metadata": {},
   "outputs": [
    {
     "name": "stdout",
     "output_type": "stream",
     "text": [
      "(1017209, 18)\n",
      "(41088, 17)\n"
     ]
    }
   ],
   "source": [
    "# merge the train/test sets with the stores set\n",
    "full_train = pd.merge(left = df_train, right = df_store, how = 'inner', left_on = 'Store', right_on = 'Store')\n",
    "full_test = pd.merge(left = df_test, right = df_store, how = 'inner', left_on = 'Store', right_on = 'Store')\n",
    "print(full_train.shape)\n",
    "print(full_test.shape)"
   ]
  },
  {
   "cell_type": "markdown",
   "id": "713fa974",
   "metadata": {},
   "source": [
    "## Preprocessing\n",
    "- Handling null values"
   ]
  },
  {
   "cell_type": "code",
   "execution_count": 16,
   "id": "81442c0c",
   "metadata": {
    "scrolled": true
   },
   "outputs": [
    {
     "data": {
      "text/plain": [
       "Store                        False\n",
       "DayOfWeek                    False\n",
       "Date                         False\n",
       "Sales                        False\n",
       "Customers                    False\n",
       "Open                         False\n",
       "Promo                        False\n",
       "StateHoliday                 False\n",
       "SchoolHoliday                False\n",
       "StoreType                    False\n",
       "Assortment                   False\n",
       "CompetitionDistance           True\n",
       "CompetitionOpenSinceMonth     True\n",
       "CompetitionOpenSinceYear      True\n",
       "Promo2                       False\n",
       "Promo2SinceWeek               True\n",
       "Promo2SinceYear               True\n",
       "PromoInterval                 True\n",
       "dtype: bool"
      ]
     },
     "execution_count": 16,
     "metadata": {},
     "output_type": "execute_result"
    }
   ],
   "source": [
    "full_train.isna().any()"
   ]
  },
  {
   "cell_type": "code",
   "execution_count": 17,
   "id": "a0ef58e7",
   "metadata": {},
   "outputs": [],
   "source": [
    "def preprocess_data(full_train, full_test):\n",
    "\n",
    "    # dependent and independent variables\n",
    "    global train_features, train_target, test_features\n",
    "    train_features = full_train.drop(['Sales'], axis = 1) #drop the target feature + customers (~ will not be used for prediction)\n",
    "    train_target  = full_train[['Sales']]\n",
    "    test_features = full_test.drop(['Id'], axis = 1) #drop id, it's required only during submission\n",
    "    test_features['Customers'] = 0\n",
    "    \n",
    "    #feature generation + transformations\n",
    "    def feature_generation(data):\n",
    "        data['Date'] = pd.to_datetime(data.Date)\n",
    "        data['Month'] = data.Date.dt.month.to_list()\n",
    "        data['Year'] = data.Date.dt.year.to_list()\n",
    "        data['Day'] = data.Date.dt.day.to_list()\n",
    "        data['WeekOfYear'] = data.Date.dt.weekofyear.to_list()\n",
    "        data['DayOfWeek'] = data.Date.dt.dayofweek.to_list()\n",
    "        data['weekday'] = 1        # Initialize the column with default value of 1\n",
    "        data.loc[data['DayOfWeek'] == 5, 'weekday'] = 0\n",
    "        data.loc[data['DayOfWeek'] == 6, 'weekday'] = 0\n",
    "#         data = data.drop(['Date'], axis = 1)\n",
    "        \n",
    "        return data\n",
    "    \n",
    "    train_features = feature_generation(train_features)\n",
    "    test_features = feature_generation(test_features)\n",
    "\n",
    "\n",
    "    # numerical and categorical columns\n",
    "    categorical = []\n",
    "    numerical = []\n",
    "    timestamp = []\n",
    "\n",
    "    for col in train_features.columns:\n",
    "        if train_features[col].dtype == object:\n",
    "            categorical.append(col)\n",
    "        elif train_features[col].dtype in ['int16', 'int32', 'int64', 'float16', 'float32', 'float64']:\n",
    "            numerical.append(col)\n",
    "        else:\n",
    "            timestamp.append(col)\n",
    "\n",
    "    # Keep selected columns only\n",
    "    my_cols = categorical + numerical + timestamp\n",
    "    train_features = train_features[my_cols].copy()\n",
    "    test_features = test_features[my_cols].copy()\n",
    "    features = pd.concat([train_features, test_features]) #merge the features columns for uniform preprocessing\n",
    "\n",
    "    # change dtypes to have same data types in preprocessing\n",
    "    features.CompetitionOpenSinceMonth = features.CompetitionOpenSinceMonth.astype('Int64') \n",
    "    features.CompetitionOpenSinceYear = features.CompetitionOpenSinceYear.astype('Int64')\n",
    "    features.Promo2SinceWeek = features.Promo2SinceWeek.astype('Int64') \n",
    "    features.Promo2SinceYear = features.Promo2SinceYear.astype('Int64')\n",
    "    features[\"StateHoliday\"].loc[features[\"StateHoliday\"] == 0] = \"0\"\n",
    "#     features = features.drop(['Store'], axis = 1)\n",
    "\n",
    "\n",
    "    # ''' actual preprocessing: '''\n",
    "    \n",
    "    # null values\n",
    "    # numerical null values\n",
    "    for col in ['CompetitionDistance', 'CompetitionOpenSinceMonth', 'CompetitionOpenSinceYear', 'Promo2SinceWeek', 'Promo2SinceYear']:\n",
    "        features[col] = features[col].fillna((int(features[col].mean()))) \n",
    "\n",
    "    # categorical null values\n",
    "    for col in ['Open', 'PromoInterval']:\n",
    "        features[col] = features[col].fillna(features[col].mode()[0])\n",
    "        \n",
    "#     # categorical null values\n",
    "#     features.PromoInterval = features.PromoInterval.fillna((features.PromoInterval.mode()))\n",
    "#     features.Open = features.Open.fillna((features.Open.mode()))\n",
    "\n",
    "    return features"
   ]
  },
  {
   "cell_type": "code",
   "execution_count": 18,
   "id": "92512cf5",
   "metadata": {},
   "outputs": [
    {
     "name": "stdout",
     "output_type": "stream",
     "text": [
      "(1058297, 22)\n"
     ]
    },
    {
     "data": {
      "text/html": [
       "<div>\n",
       "<style scoped>\n",
       "    .dataframe tbody tr th:only-of-type {\n",
       "        vertical-align: middle;\n",
       "    }\n",
       "\n",
       "    .dataframe tbody tr th {\n",
       "        vertical-align: top;\n",
       "    }\n",
       "\n",
       "    .dataframe thead th {\n",
       "        text-align: right;\n",
       "    }\n",
       "</style>\n",
       "<table border=\"1\" class=\"dataframe\">\n",
       "  <thead>\n",
       "    <tr style=\"text-align: right;\">\n",
       "      <th></th>\n",
       "      <th>StateHoliday</th>\n",
       "      <th>StoreType</th>\n",
       "      <th>Assortment</th>\n",
       "      <th>PromoInterval</th>\n",
       "      <th>Store</th>\n",
       "      <th>DayOfWeek</th>\n",
       "      <th>Customers</th>\n",
       "      <th>Open</th>\n",
       "      <th>Promo</th>\n",
       "      <th>SchoolHoliday</th>\n",
       "      <th>...</th>\n",
       "      <th>CompetitionOpenSinceYear</th>\n",
       "      <th>Promo2</th>\n",
       "      <th>Promo2SinceWeek</th>\n",
       "      <th>Promo2SinceYear</th>\n",
       "      <th>Month</th>\n",
       "      <th>Year</th>\n",
       "      <th>Day</th>\n",
       "      <th>WeekOfYear</th>\n",
       "      <th>weekday</th>\n",
       "      <th>Date</th>\n",
       "    </tr>\n",
       "  </thead>\n",
       "  <tbody>\n",
       "    <tr>\n",
       "      <th>0</th>\n",
       "      <td>0</td>\n",
       "      <td>c</td>\n",
       "      <td>a</td>\n",
       "      <td>Jan,Apr,Jul,Oct</td>\n",
       "      <td>1</td>\n",
       "      <td>4</td>\n",
       "      <td>555</td>\n",
       "      <td>1.0</td>\n",
       "      <td>1</td>\n",
       "      <td>1</td>\n",
       "      <td>...</td>\n",
       "      <td>2008</td>\n",
       "      <td>0</td>\n",
       "      <td>23</td>\n",
       "      <td>2011</td>\n",
       "      <td>7</td>\n",
       "      <td>2015</td>\n",
       "      <td>31</td>\n",
       "      <td>31</td>\n",
       "      <td>1</td>\n",
       "      <td>2015-07-31</td>\n",
       "    </tr>\n",
       "    <tr>\n",
       "      <th>1</th>\n",
       "      <td>0</td>\n",
       "      <td>c</td>\n",
       "      <td>a</td>\n",
       "      <td>Jan,Apr,Jul,Oct</td>\n",
       "      <td>1</td>\n",
       "      <td>3</td>\n",
       "      <td>546</td>\n",
       "      <td>1.0</td>\n",
       "      <td>1</td>\n",
       "      <td>1</td>\n",
       "      <td>...</td>\n",
       "      <td>2008</td>\n",
       "      <td>0</td>\n",
       "      <td>23</td>\n",
       "      <td>2011</td>\n",
       "      <td>7</td>\n",
       "      <td>2015</td>\n",
       "      <td>30</td>\n",
       "      <td>31</td>\n",
       "      <td>1</td>\n",
       "      <td>2015-07-30</td>\n",
       "    </tr>\n",
       "    <tr>\n",
       "      <th>2</th>\n",
       "      <td>0</td>\n",
       "      <td>c</td>\n",
       "      <td>a</td>\n",
       "      <td>Jan,Apr,Jul,Oct</td>\n",
       "      <td>1</td>\n",
       "      <td>2</td>\n",
       "      <td>523</td>\n",
       "      <td>1.0</td>\n",
       "      <td>1</td>\n",
       "      <td>1</td>\n",
       "      <td>...</td>\n",
       "      <td>2008</td>\n",
       "      <td>0</td>\n",
       "      <td>23</td>\n",
       "      <td>2011</td>\n",
       "      <td>7</td>\n",
       "      <td>2015</td>\n",
       "      <td>29</td>\n",
       "      <td>31</td>\n",
       "      <td>1</td>\n",
       "      <td>2015-07-29</td>\n",
       "    </tr>\n",
       "    <tr>\n",
       "      <th>3</th>\n",
       "      <td>0</td>\n",
       "      <td>c</td>\n",
       "      <td>a</td>\n",
       "      <td>Jan,Apr,Jul,Oct</td>\n",
       "      <td>1</td>\n",
       "      <td>1</td>\n",
       "      <td>560</td>\n",
       "      <td>1.0</td>\n",
       "      <td>1</td>\n",
       "      <td>1</td>\n",
       "      <td>...</td>\n",
       "      <td>2008</td>\n",
       "      <td>0</td>\n",
       "      <td>23</td>\n",
       "      <td>2011</td>\n",
       "      <td>7</td>\n",
       "      <td>2015</td>\n",
       "      <td>28</td>\n",
       "      <td>31</td>\n",
       "      <td>1</td>\n",
       "      <td>2015-07-28</td>\n",
       "    </tr>\n",
       "    <tr>\n",
       "      <th>4</th>\n",
       "      <td>0</td>\n",
       "      <td>c</td>\n",
       "      <td>a</td>\n",
       "      <td>Jan,Apr,Jul,Oct</td>\n",
       "      <td>1</td>\n",
       "      <td>0</td>\n",
       "      <td>612</td>\n",
       "      <td>1.0</td>\n",
       "      <td>1</td>\n",
       "      <td>1</td>\n",
       "      <td>...</td>\n",
       "      <td>2008</td>\n",
       "      <td>0</td>\n",
       "      <td>23</td>\n",
       "      <td>2011</td>\n",
       "      <td>7</td>\n",
       "      <td>2015</td>\n",
       "      <td>27</td>\n",
       "      <td>31</td>\n",
       "      <td>1</td>\n",
       "      <td>2015-07-27</td>\n",
       "    </tr>\n",
       "  </tbody>\n",
       "</table>\n",
       "<p>5 rows × 22 columns</p>\n",
       "</div>"
      ],
      "text/plain": [
       "  StateHoliday StoreType Assortment    PromoInterval  Store  DayOfWeek  \\\n",
       "0            0         c          a  Jan,Apr,Jul,Oct      1          4   \n",
       "1            0         c          a  Jan,Apr,Jul,Oct      1          3   \n",
       "2            0         c          a  Jan,Apr,Jul,Oct      1          2   \n",
       "3            0         c          a  Jan,Apr,Jul,Oct      1          1   \n",
       "4            0         c          a  Jan,Apr,Jul,Oct      1          0   \n",
       "\n",
       "   Customers  Open  Promo  SchoolHoliday  ...  CompetitionOpenSinceYear  \\\n",
       "0        555   1.0      1              1  ...                      2008   \n",
       "1        546   1.0      1              1  ...                      2008   \n",
       "2        523   1.0      1              1  ...                      2008   \n",
       "3        560   1.0      1              1  ...                      2008   \n",
       "4        612   1.0      1              1  ...                      2008   \n",
       "\n",
       "   Promo2  Promo2SinceWeek  Promo2SinceYear  Month  Year  Day  WeekOfYear  \\\n",
       "0       0               23             2011      7  2015   31          31   \n",
       "1       0               23             2011      7  2015   30          31   \n",
       "2       0               23             2011      7  2015   29          31   \n",
       "3       0               23             2011      7  2015   28          31   \n",
       "4       0               23             2011      7  2015   27          31   \n",
       "\n",
       "   weekday       Date  \n",
       "0        1 2015-07-31  \n",
       "1        1 2015-07-30  \n",
       "2        1 2015-07-29  \n",
       "3        1 2015-07-28  \n",
       "4        1 2015-07-27  \n",
       "\n",
       "[5 rows x 22 columns]"
      ]
     },
     "execution_count": 18,
     "metadata": {},
     "output_type": "execute_result"
    }
   ],
   "source": [
    "features = preprocess_data(full_train, full_test)\n",
    "print(features.shape)\n",
    "features.head()"
   ]
  },
  {
   "cell_type": "code",
   "execution_count": 19,
   "id": "c0b04d73",
   "metadata": {},
   "outputs": [
    {
     "name": "stdout",
     "output_type": "stream",
     "text": [
      "<class 'pandas.core.frame.DataFrame'>\n",
      "Int64Index: 1058297 entries, 0 to 41087\n",
      "Data columns (total 22 columns):\n",
      " #   Column                     Non-Null Count    Dtype         \n",
      "---  ------                     --------------    -----         \n",
      " 0   StateHoliday               1058297 non-null  object        \n",
      " 1   StoreType                  1058297 non-null  object        \n",
      " 2   Assortment                 1058297 non-null  object        \n",
      " 3   PromoInterval              1058297 non-null  object        \n",
      " 4   Store                      1058297 non-null  int64         \n",
      " 5   DayOfWeek                  1058297 non-null  int64         \n",
      " 6   Customers                  1058297 non-null  int64         \n",
      " 7   Open                       1058297 non-null  float64       \n",
      " 8   Promo                      1058297 non-null  int64         \n",
      " 9   SchoolHoliday              1058297 non-null  int64         \n",
      " 10  CompetitionDistance        1058297 non-null  float64       \n",
      " 11  CompetitionOpenSinceMonth  1058297 non-null  Int64         \n",
      " 12  CompetitionOpenSinceYear   1058297 non-null  Int64         \n",
      " 13  Promo2                     1058297 non-null  int64         \n",
      " 14  Promo2SinceWeek            1058297 non-null  Int64         \n",
      " 15  Promo2SinceYear            1058297 non-null  Int64         \n",
      " 16  Month                      1058297 non-null  int64         \n",
      " 17  Year                       1058297 non-null  int64         \n",
      " 18  Day                        1058297 non-null  int64         \n",
      " 19  WeekOfYear                 1058297 non-null  int64         \n",
      " 20  weekday                    1058297 non-null  int64         \n",
      " 21  Date                       1058297 non-null  datetime64[ns]\n",
      "dtypes: Int64(4), datetime64[ns](1), float64(2), int64(11), object(4)\n",
      "memory usage: 189.7+ MB\n"
     ]
    }
   ],
   "source": [
    "features.info()"
   ]
  },
  {
   "cell_type": "markdown",
   "id": "3c002367",
   "metadata": {},
   "source": [
    "## Reconstruct train and test sets"
   ]
  },
  {
   "cell_type": "code",
   "execution_count": 20,
   "id": "801a6223",
   "metadata": {},
   "outputs": [
    {
     "data": {
      "text/plain": [
       "((1017209, 1), (1017209, 22), (1017209, 23), (41088, 22))"
      ]
     },
     "execution_count": 20,
     "metadata": {},
     "output_type": "execute_result"
    }
   ],
   "source": [
    "train_feat = features.iloc[:len(train_features), ]\n",
    "test_feat = features.iloc[len(train_features):, :]\n",
    "train_set = train_feat.copy()\n",
    "train_set['Sales'] = train_target\n",
    "train_target.shape, train_feat.shape, train_set.shape, test_feat.shape"
   ]
  },
  {
   "cell_type": "code",
   "execution_count": 21,
   "id": "81b7d3b9",
   "metadata": {},
   "outputs": [
    {
     "data": {
      "text/html": [
       "<div>\n",
       "<style scoped>\n",
       "    .dataframe tbody tr th:only-of-type {\n",
       "        vertical-align: middle;\n",
       "    }\n",
       "\n",
       "    .dataframe tbody tr th {\n",
       "        vertical-align: top;\n",
       "    }\n",
       "\n",
       "    .dataframe thead th {\n",
       "        text-align: right;\n",
       "    }\n",
       "</style>\n",
       "<table border=\"1\" class=\"dataframe\">\n",
       "  <thead>\n",
       "    <tr style=\"text-align: right;\">\n",
       "      <th></th>\n",
       "      <th>Store</th>\n",
       "      <th>DayOfWeek</th>\n",
       "      <th>Customers</th>\n",
       "      <th>Open</th>\n",
       "      <th>Promo</th>\n",
       "      <th>SchoolHoliday</th>\n",
       "      <th>CompetitionDistance</th>\n",
       "      <th>CompetitionOpenSinceMonth</th>\n",
       "      <th>CompetitionOpenSinceYear</th>\n",
       "      <th>Promo2</th>\n",
       "      <th>Promo2SinceWeek</th>\n",
       "      <th>Promo2SinceYear</th>\n",
       "      <th>Month</th>\n",
       "      <th>Year</th>\n",
       "      <th>Day</th>\n",
       "      <th>WeekOfYear</th>\n",
       "      <th>weekday</th>\n",
       "      <th>Sales</th>\n",
       "    </tr>\n",
       "  </thead>\n",
       "  <tbody>\n",
       "    <tr>\n",
       "      <th>count</th>\n",
       "      <td>1.017209e+06</td>\n",
       "      <td>1.017209e+06</td>\n",
       "      <td>1.017209e+06</td>\n",
       "      <td>1.017209e+06</td>\n",
       "      <td>1.017209e+06</td>\n",
       "      <td>1.017209e+06</td>\n",
       "      <td>1.017209e+06</td>\n",
       "      <td>1.017209e+06</td>\n",
       "      <td>1.017209e+06</td>\n",
       "      <td>1.017209e+06</td>\n",
       "      <td>1.017209e+06</td>\n",
       "      <td>1.017209e+06</td>\n",
       "      <td>1.017209e+06</td>\n",
       "      <td>1.017209e+06</td>\n",
       "      <td>1.017209e+06</td>\n",
       "      <td>1.017209e+06</td>\n",
       "      <td>1.017209e+06</td>\n",
       "      <td>1.017209e+06</td>\n",
       "    </tr>\n",
       "    <tr>\n",
       "      <th>mean</th>\n",
       "      <td>5.584297e+02</td>\n",
       "      <td>2.998341e+00</td>\n",
       "      <td>6.331459e+02</td>\n",
       "      <td>8.301067e-01</td>\n",
       "      <td>3.815145e-01</td>\n",
       "      <td>1.786467e-01</td>\n",
       "      <td>5.430049e+03</td>\n",
       "      <td>7.152022e+00</td>\n",
       "      <td>2.008471e+03</td>\n",
       "      <td>5.005638e-01</td>\n",
       "      <td>2.313470e+01</td>\n",
       "      <td>2.011377e+03</td>\n",
       "      <td>5.846762e+00</td>\n",
       "      <td>2.013832e+03</td>\n",
       "      <td>1.570279e+01</td>\n",
       "      <td>2.361551e+01</td>\n",
       "      <td>7.154370e-01</td>\n",
       "      <td>5.773819e+03</td>\n",
       "    </tr>\n",
       "    <tr>\n",
       "      <th>std</th>\n",
       "      <td>3.219087e+02</td>\n",
       "      <td>1.997391e+00</td>\n",
       "      <td>4.644117e+02</td>\n",
       "      <td>3.755392e-01</td>\n",
       "      <td>4.857586e-01</td>\n",
       "      <td>3.830564e-01</td>\n",
       "      <td>7.705298e+03</td>\n",
       "      <td>2.654703e+00</td>\n",
       "      <td>4.959791e+00</td>\n",
       "      <td>4.999999e-01</td>\n",
       "      <td>9.973878e+00</td>\n",
       "      <td>1.235230e+00</td>\n",
       "      <td>3.326097e+00</td>\n",
       "      <td>7.773960e-01</td>\n",
       "      <td>8.787638e+00</td>\n",
       "      <td>1.443338e+01</td>\n",
       "      <td>4.512063e-01</td>\n",
       "      <td>3.849926e+03</td>\n",
       "    </tr>\n",
       "    <tr>\n",
       "      <th>min</th>\n",
       "      <td>1.000000e+00</td>\n",
       "      <td>0.000000e+00</td>\n",
       "      <td>0.000000e+00</td>\n",
       "      <td>0.000000e+00</td>\n",
       "      <td>0.000000e+00</td>\n",
       "      <td>0.000000e+00</td>\n",
       "      <td>2.000000e+01</td>\n",
       "      <td>1.000000e+00</td>\n",
       "      <td>1.900000e+03</td>\n",
       "      <td>0.000000e+00</td>\n",
       "      <td>1.000000e+00</td>\n",
       "      <td>2.009000e+03</td>\n",
       "      <td>1.000000e+00</td>\n",
       "      <td>2.013000e+03</td>\n",
       "      <td>1.000000e+00</td>\n",
       "      <td>1.000000e+00</td>\n",
       "      <td>0.000000e+00</td>\n",
       "      <td>0.000000e+00</td>\n",
       "    </tr>\n",
       "    <tr>\n",
       "      <th>25%</th>\n",
       "      <td>2.800000e+02</td>\n",
       "      <td>1.000000e+00</td>\n",
       "      <td>4.050000e+02</td>\n",
       "      <td>1.000000e+00</td>\n",
       "      <td>0.000000e+00</td>\n",
       "      <td>0.000000e+00</td>\n",
       "      <td>7.100000e+02</td>\n",
       "      <td>6.000000e+00</td>\n",
       "      <td>2.008000e+03</td>\n",
       "      <td>0.000000e+00</td>\n",
       "      <td>2.200000e+01</td>\n",
       "      <td>2.011000e+03</td>\n",
       "      <td>3.000000e+00</td>\n",
       "      <td>2.013000e+03</td>\n",
       "      <td>8.000000e+00</td>\n",
       "      <td>1.100000e+01</td>\n",
       "      <td>0.000000e+00</td>\n",
       "      <td>3.727000e+03</td>\n",
       "    </tr>\n",
       "    <tr>\n",
       "      <th>50%</th>\n",
       "      <td>5.580000e+02</td>\n",
       "      <td>3.000000e+00</td>\n",
       "      <td>6.090000e+02</td>\n",
       "      <td>1.000000e+00</td>\n",
       "      <td>0.000000e+00</td>\n",
       "      <td>0.000000e+00</td>\n",
       "      <td>2.330000e+03</td>\n",
       "      <td>7.000000e+00</td>\n",
       "      <td>2.008000e+03</td>\n",
       "      <td>1.000000e+00</td>\n",
       "      <td>2.300000e+01</td>\n",
       "      <td>2.011000e+03</td>\n",
       "      <td>6.000000e+00</td>\n",
       "      <td>2.014000e+03</td>\n",
       "      <td>1.600000e+01</td>\n",
       "      <td>2.200000e+01</td>\n",
       "      <td>1.000000e+00</td>\n",
       "      <td>5.744000e+03</td>\n",
       "    </tr>\n",
       "    <tr>\n",
       "      <th>75%</th>\n",
       "      <td>8.380000e+02</td>\n",
       "      <td>5.000000e+00</td>\n",
       "      <td>8.370000e+02</td>\n",
       "      <td>1.000000e+00</td>\n",
       "      <td>1.000000e+00</td>\n",
       "      <td>0.000000e+00</td>\n",
       "      <td>6.880000e+03</td>\n",
       "      <td>9.000000e+00</td>\n",
       "      <td>2.011000e+03</td>\n",
       "      <td>1.000000e+00</td>\n",
       "      <td>2.300000e+01</td>\n",
       "      <td>2.012000e+03</td>\n",
       "      <td>8.000000e+00</td>\n",
       "      <td>2.014000e+03</td>\n",
       "      <td>2.300000e+01</td>\n",
       "      <td>3.500000e+01</td>\n",
       "      <td>1.000000e+00</td>\n",
       "      <td>7.856000e+03</td>\n",
       "    </tr>\n",
       "    <tr>\n",
       "      <th>max</th>\n",
       "      <td>1.115000e+03</td>\n",
       "      <td>6.000000e+00</td>\n",
       "      <td>7.388000e+03</td>\n",
       "      <td>1.000000e+00</td>\n",
       "      <td>1.000000e+00</td>\n",
       "      <td>1.000000e+00</td>\n",
       "      <td>7.586000e+04</td>\n",
       "      <td>1.200000e+01</td>\n",
       "      <td>2.015000e+03</td>\n",
       "      <td>1.000000e+00</td>\n",
       "      <td>5.000000e+01</td>\n",
       "      <td>2.015000e+03</td>\n",
       "      <td>1.200000e+01</td>\n",
       "      <td>2.015000e+03</td>\n",
       "      <td>3.100000e+01</td>\n",
       "      <td>5.200000e+01</td>\n",
       "      <td>1.000000e+00</td>\n",
       "      <td>4.155100e+04</td>\n",
       "    </tr>\n",
       "  </tbody>\n",
       "</table>\n",
       "</div>"
      ],
      "text/plain": [
       "              Store     DayOfWeek     Customers          Open         Promo  \\\n",
       "count  1.017209e+06  1.017209e+06  1.017209e+06  1.017209e+06  1.017209e+06   \n",
       "mean   5.584297e+02  2.998341e+00  6.331459e+02  8.301067e-01  3.815145e-01   \n",
       "std    3.219087e+02  1.997391e+00  4.644117e+02  3.755392e-01  4.857586e-01   \n",
       "min    1.000000e+00  0.000000e+00  0.000000e+00  0.000000e+00  0.000000e+00   \n",
       "25%    2.800000e+02  1.000000e+00  4.050000e+02  1.000000e+00  0.000000e+00   \n",
       "50%    5.580000e+02  3.000000e+00  6.090000e+02  1.000000e+00  0.000000e+00   \n",
       "75%    8.380000e+02  5.000000e+00  8.370000e+02  1.000000e+00  1.000000e+00   \n",
       "max    1.115000e+03  6.000000e+00  7.388000e+03  1.000000e+00  1.000000e+00   \n",
       "\n",
       "       SchoolHoliday  CompetitionDistance  CompetitionOpenSinceMonth  \\\n",
       "count   1.017209e+06         1.017209e+06               1.017209e+06   \n",
       "mean    1.786467e-01         5.430049e+03               7.152022e+00   \n",
       "std     3.830564e-01         7.705298e+03               2.654703e+00   \n",
       "min     0.000000e+00         2.000000e+01               1.000000e+00   \n",
       "25%     0.000000e+00         7.100000e+02               6.000000e+00   \n",
       "50%     0.000000e+00         2.330000e+03               7.000000e+00   \n",
       "75%     0.000000e+00         6.880000e+03               9.000000e+00   \n",
       "max     1.000000e+00         7.586000e+04               1.200000e+01   \n",
       "\n",
       "       CompetitionOpenSinceYear        Promo2  Promo2SinceWeek  \\\n",
       "count              1.017209e+06  1.017209e+06     1.017209e+06   \n",
       "mean               2.008471e+03  5.005638e-01     2.313470e+01   \n",
       "std                4.959791e+00  4.999999e-01     9.973878e+00   \n",
       "min                1.900000e+03  0.000000e+00     1.000000e+00   \n",
       "25%                2.008000e+03  0.000000e+00     2.200000e+01   \n",
       "50%                2.008000e+03  1.000000e+00     2.300000e+01   \n",
       "75%                2.011000e+03  1.000000e+00     2.300000e+01   \n",
       "max                2.015000e+03  1.000000e+00     5.000000e+01   \n",
       "\n",
       "       Promo2SinceYear         Month          Year           Day  \\\n",
       "count     1.017209e+06  1.017209e+06  1.017209e+06  1.017209e+06   \n",
       "mean      2.011377e+03  5.846762e+00  2.013832e+03  1.570279e+01   \n",
       "std       1.235230e+00  3.326097e+00  7.773960e-01  8.787638e+00   \n",
       "min       2.009000e+03  1.000000e+00  2.013000e+03  1.000000e+00   \n",
       "25%       2.011000e+03  3.000000e+00  2.013000e+03  8.000000e+00   \n",
       "50%       2.011000e+03  6.000000e+00  2.014000e+03  1.600000e+01   \n",
       "75%       2.012000e+03  8.000000e+00  2.014000e+03  2.300000e+01   \n",
       "max       2.015000e+03  1.200000e+01  2.015000e+03  3.100000e+01   \n",
       "\n",
       "         WeekOfYear       weekday         Sales  \n",
       "count  1.017209e+06  1.017209e+06  1.017209e+06  \n",
       "mean   2.361551e+01  7.154370e-01  5.773819e+03  \n",
       "std    1.443338e+01  4.512063e-01  3.849926e+03  \n",
       "min    1.000000e+00  0.000000e+00  0.000000e+00  \n",
       "25%    1.100000e+01  0.000000e+00  3.727000e+03  \n",
       "50%    2.200000e+01  1.000000e+00  5.744000e+03  \n",
       "75%    3.500000e+01  1.000000e+00  7.856000e+03  \n",
       "max    5.200000e+01  1.000000e+00  4.155100e+04  "
      ]
     },
     "execution_count": 21,
     "metadata": {},
     "output_type": "execute_result"
    }
   ],
   "source": [
    "train_set.describe()"
   ]
  },
  {
   "cell_type": "code",
   "execution_count": 22,
   "id": "c663837f",
   "metadata": {},
   "outputs": [
    {
     "data": {
      "text/plain": [
       "Text(0.5, 1.0, 'sales during Stateholidays')"
      ]
     },
     "execution_count": 22,
     "metadata": {},
     "output_type": "execute_result"
    },
    {
     "data": {
      "image/png": "[encoded data removed]",
      "text/plain": [
       "<Figure size 432x288 with 1 Axes>"
      ]
     },
     "metadata": {
      "needs_background": "light"
     },
     "output_type": "display_data"
    },
    {
     "data": {
      "image/png": "[encoded data removed]",
      "text/plain": [
       "<Figure size 864x288 with 2 Axes>"
      ]
     },
     "metadata": {
      "needs_background": "light"
     },
     "output_type": "display_data"
    }
   ],
   "source": [
    "\n",
    "# state holiday + Sales\n",
    "\n",
    "# StateHoliday column has values 0 & \"0\", So, we need to merge values with 0 to \"0\"\n",
    "train_set[\"StateHoliday\"].loc[train_set[\"StateHoliday\"] == 0] = \"0\"\n",
    "sns.countplot(x='StateHoliday', data=train_set).set_title('State holidays value counts')\n",
    "\n",
    "\n",
    "# holidays + no_holidays\n",
    "fig, (axis1,axis2) = plt.subplots(1,2,figsize=(12,4))\n",
    "\n",
    "sns.barplot(x='StateHoliday', y='Sales', data=train_set, ax=axis1).set_title('comparison of sales during StateHolidays and ordinary days')\n",
    "# holidays only\n",
    "mask = (train_set[\"StateHoliday\"] != \"0\") & (train_set[\"Sales\"] > 0)\n",
    "sns.barplot(x='StateHoliday', y='Sales', data=train_set[mask], ax=axis2).set_title('sales during Stateholidays')\n",
    "\n",
    "#fig, (axis1,axis2) = plt.subplots(1,2,figsize=(12,4))\n",
    "#sns.barplot(x='StateHoliday', y='Customers', data=train_set, ax=axis1).set_title('comparison of customers during StateHolidays and ordinary days')\n",
    "# holidays only\n",
    "#mask = (train_set[\"StateHoliday\"] != \"0\") & (train_set[\"Customers\"] > 0)\n",
    "#sns.barplot(x='StateHoliday', y='Customers', data=train_set[mask], ax=axis2).set_title('customers during Stateholidays')'''"
   ]
  },
  {
   "cell_type": "code",
   "execution_count": 23,
   "id": "6bf20793",
   "metadata": {},
   "outputs": [
    {
     "data": {
      "text/plain": [
       "Text(0.5, 1.0, 'Sales during Schoolholidays')"
      ]
     },
     "execution_count": 23,
     "metadata": {},
     "output_type": "execute_result"
    },
    {
     "data": {
      "image/png": "[encoded data removed]",
      "text/plain": [
       "<Figure size 864x288 with 2 Axes>"
      ]
     },
     "metadata": {
      "needs_background": "light"
     },
     "output_type": "display_data"
    }
   ],
   "source": [
    "fig, (axis1,axis2) = plt.subplots(1,2,figsize=(12,4))\n",
    "sns.barplot(x='SchoolHoliday', y='Sales', data=train_set, ax=axis1).set_title('comparison of Sales during SchoolHolidays and ordinary days')\n",
    "# holidays only\n",
    "mask = (train_set[\"SchoolHoliday\"] != \"0\") & (train_set[\"Sales\"] > 0)\n",
    "sns.barplot(x='SchoolHoliday', y='Sales', data=train_set[mask], ax=axis2).set_title('Sales during Schoolholidays')"
   ]
  },
  {
   "cell_type": "code",
   "execution_count": 24,
   "id": "53ca3bb2",
   "metadata": {},
   "outputs": [
    {
     "data": {
      "text/plain": [
       "Text(0.5, 1.0, 'customers during Stateholidays')"
      ]
     },
     "execution_count": 24,
     "metadata": {},
     "output_type": "execute_result"
    },
    {
     "data": {
      "image/png": "[encoded data removed]",
      "text/plain": [
       "<Figure size 864x288 with 2 Axes>"
      ]
     },
     "metadata": {
      "needs_background": "light"
     },
     "output_type": "display_data"
    }
   ],
   "source": [
    "\n",
    "fig, (axis1,axis2) = plt.subplots(1,2,figsize=(12,4))\n",
    "sns.barplot(x='StateHoliday', y='Customers', data=train_set, ax=axis1).set_title('comparison of customers during StateHolidays and ordinary days')\n",
    "# holidays only\n",
    "mask = (train_set[\"StateHoliday\"] != \"0\") & (train_set[\"Customers\"] > 0)\n",
    "sns.barplot(x='StateHoliday', y='Customers', data=train_set[mask], ax=axis2).set_title('customers during Stateholidays')"
   ]
  },
  {
   "cell_type": "markdown",
   "id": "46ec04e5",
   "metadata": {},
   "source": [
    "0 represents no holidays. Counts are higher as you can see.\n",
    "- a - public holiday\n",
    "- b - easter\n",
    "- c - christmas"
   ]
  },
  {
   "cell_type": "code",
   "execution_count": 25,
   "id": "ed4c5807",
   "metadata": {},
   "outputs": [
    {
     "name": "stdout",
     "output_type": "stream",
     "text": [
      "Top 6 features higly correlated with sales\n"
     ]
    },
    {
     "data": {
      "image/png": "[encoded data removed]",
      "text/plain": [
       "<Figure size 576x432 with 2 Axes>"
      ]
     },
     "metadata": {},
     "output_type": "display_data"
    }
   ],
   "source": [
    "def correlation_map(f_data, f_feature, f_number):\n",
    "    f_most_correlated = f_data.corr().nlargest(f_number,f_feature)[f_feature].index\n",
    "    f_correlation = f_data[f_most_correlated].corr()\n",
    "    \n",
    "    f_mask = np.zeros_like(f_correlation)\n",
    "    f_mask[np.triu_indices_from(f_mask)] = True\n",
    "    with sns.axes_style(\"white\"):\n",
    "        f_fig, f_ax = plt.subplots(figsize=(8, 6))\n",
    "        f_ax = sns.heatmap(f_correlation, mask=f_mask, vmin=0, vmax=1, square=True,\n",
    "                           annot=True, annot_kws={\"size\": 10}, cmap=\"BuPu\")\n",
    "\n",
    "    plt.show()\n",
    "\n",
    "print('Top 6 features higly correlated with sales')\n",
    "correlation_map(train_set, 'Sales', 6)"
   ]
  },
  {
   "cell_type": "markdown",
   "id": "3fd94db9",
   "metadata": {},
   "source": [
    "The number of cutomers and Sales share the same box color in the above correlation. 89% of correlation is between customers and sales."
   ]
  },
  {
   "cell_type": "code",
   "execution_count": 26,
   "id": "87186449",
   "metadata": {},
   "outputs": [
    {
     "data": {
      "text/plain": [
       "Text(0.5, 1.0, 'customers across different Promo')"
      ]
     },
     "execution_count": 26,
     "metadata": {},
     "output_type": "execute_result"
    },
    {
     "data": {
      "image/png": "[encoded data removed]",
      "text/plain": [
       "<Figure size 432x288 with 1 Axes>"
      ]
     },
     "metadata": {
      "needs_background": "light"
     },
     "output_type": "display_data"
    },
    {
     "data": {
      "image/png": "[encoded data removed]",
      "text/plain": [
       "<Figure size 1080x288 with 2 Axes>"
      ]
     },
     "metadata": {
      "needs_background": "light"
     },
     "output_type": "display_data"
    }
   ],
   "source": [
    "#Promo\n",
    "flatui = [\"#9b59b6\", \"#3498db\", \"#95a5a6\", \"#e74c3c\", \"#34495e\", \"#2ecc71\"]\n",
    "sns.countplot(x='Promo', data=train_set, palette = flatui).set_title('Promo counts')\n",
    "\n",
    "fig, (axis1,axis2) = plt.subplots(1,2,figsize=(15,4))\n",
    "\n",
    "sns.barplot(x='Promo', y='Sales', data=train_set, palette = flatui, ax=axis1).set_title('sales across different Promo')\n",
    "sns.barplot(x='Promo', y='Customers', data=train_set, ax=axis2,  palette = flatui).set_title('customers across different Promo')"
   ]
  },
  {
   "cell_type": "markdown",
   "id": "3802ed7a",
   "metadata": {},
   "source": [
    "As you can see, Sales are lower when there is no promo(0) and higher when there is promo(1)"
   ]
  },
  {
   "cell_type": "code",
   "execution_count": 29,
   "id": "5b0d1c9d",
   "metadata": {},
   "outputs": [
    {
     "data": {
      "text/plain": [
       "Text(0.5, 1.0, 'customers across different days of the week ')"
      ]
     },
     "execution_count": 29,
     "metadata": {},
     "output_type": "execute_result"
    },
    {
     "data": {
      "image/png": "[encoded data removed]",
      "text/plain": [
       "<Figure size 864x288 with 1 Axes>"
      ]
     },
     "metadata": {
      "needs_background": "light"
     },
     "output_type": "display_data"
    },
    {
     "data": {
      "image/png": "[encoded data removed]",
      "text/plain": [
       "<Figure size 1080x288 with 2 Axes>"
      ]
     },
     "metadata": {
      "needs_background": "light"
     },
     "output_type": "display_data"
    }
   ],
   "source": [
    "# dayofweek + open\n",
    "\n",
    "#let's explore open in relation to day of week\n",
    "fig, (axis1) = plt.subplots(1,1,figsize=(12,4))\n",
    "sns.countplot(x='Open',hue='DayOfWeek', data=train_set, ax=axis1, palette = 'RdBu_r')\n",
    "plt.title(\"store's open status in relation to day of the week\")\n",
    "\n",
    "\n",
    "# sales across dayofweek\n",
    "fig, (axis1,axis2) = plt.subplots(1,2,figsize=(15,4))\n",
    "sns.barplot(x='DayOfWeek', y='Sales', data=train_set, palette = 'RdBu_r', ax=axis1).set_title('sales across different days of the week ')\n",
    "sns.barplot(x='DayOfWeek', y='Sales', data=train_set, palette = 'RdBu_r', ax=axis2).set_title('customers across different days of the week ')"
   ]
  },
  {
   "cell_type": "markdown",
   "id": "c2d26869",
   "metadata": {},
   "source": [
    "The amount of sales and number of customers align with the trend across the week.\n",
    "The days 0 to 5 are the most opening ones. On sundays(day 6 according to my data set), most stores do not open. "
   ]
  },
  {
   "cell_type": "code",
   "execution_count": 33,
   "id": "7461e1d1",
   "metadata": {},
   "outputs": [
    {
     "data": {
      "text/plain": [
       "Text(0.5, 1.0, 'customer behavior during weekends and weekdays')"
      ]
     },
     "execution_count": 33,
     "metadata": {},
     "output_type": "execute_result"
    },
    {
     "data": {
      "image/png": "[encoded data removed]",
      "text/plain": [
       "<Figure size 432x288 with 1 Axes>"
      ]
     },
     "metadata": {
      "needs_background": "light"
     },
     "output_type": "display_data"
    },
    {
     "data": {
      "image/png": "[encoded data removed]",
      "text/plain": [
       "<Figure size 1080x288 with 2 Axes>"
      ]
     },
     "metadata": {
      "needs_background": "light"
     },
     "output_type": "display_data"
    }
   ],
   "source": [
    "# weekday\n",
    "flatui = [ \"#e74c3c\", \"#34495e\"]\n",
    "sns.countplot(x='weekday', data=train_set, palette = flatui).set_title('a count plot of weekday')\n",
    "\n",
    "fig, (axis1,axis2) = plt.subplots(1,2,figsize=(15,4))\n",
    "\n",
    "sns.barplot(x='weekday', y='Sales', data=train_set, ax=axis1, palette = flatui).set_title('sales during weekends vs weekdays')\n",
    "sns.barplot(x='weekday', y='Customers', data=train_set, ax=axis2, palette = flatui).set_title('customer behavior during weekends and weekdays')"
   ]
  },
  {
   "cell_type": "markdown",
   "id": "eec5b8c9",
   "metadata": {},
   "source": [
    "On weekends, sales are low compared to sales in week days\n",
    "It's probably because most stores aren't open on sundays. People take a break from work on sunday\n"
   ]
  },
  {
   "cell_type": "code",
   "execution_count": 35,
   "id": "cc5b8423",
   "metadata": {},
   "outputs": [
    {
     "data": {
      "text/plain": [
       "Text(0.5, 1.0, 'customers across different assortment types')"
      ]
     },
     "execution_count": 35,
     "metadata": {},
     "output_type": "execute_result"
    },
    {
     "data": {
      "image/png": "[encoded data removed]",
      "text/plain": [
       "<Figure size 432x288 with 1 Axes>"
      ]
     },
     "metadata": {
      "needs_background": "light"
     },
     "output_type": "display_data"
    },
    {
     "data": {
      "image/png": "[encoded data removed]",
      "text/plain": [
       "<Figure size 1080x288 with 2 Axes>"
      ]
     },
     "metadata": {
      "needs_background": "light"
     },
     "output_type": "display_data"
    }
   ],
   "source": [
    "# assortment type\n",
    "sns.countplot(x='Assortment', data=train_set, order=['a','b','c'], palette = 'husl').set_title('assortment types counts')\n",
    "\n",
    "\n",
    "fig, (axis1,axis2) = plt.subplots(1,2,figsize=(15,4))\n",
    "\n",
    "sns.barplot(x='Assortment', y='Sales', data=train_set, palette = 'husl', order=['a','b','c'], ax=axis1).set_title('sales across different assortment types')\n",
    "sns.barplot(x='Assortment', y='Customers', data=train_set, palette = 'husl', order=['a','b','c'], ax=axis2).set_title('customers across different assortment types')"
   ]
  },
  {
   "cell_type": "markdown",
   "id": "0b842987",
   "metadata": {},
   "source": [
    "Reminder: Assortment -describes an assortment level: a = basic, b = extra, c = extended\n",
    "\n",
    "Assortment stores b; the extra stores are of a small number but the most attended. We see a high sales volume in b. \n",
    "\n",
    "**Competition distance**"
   ]
  },
  {
   "cell_type": "code",
   "execution_count": 36,
   "id": "b8662808",
   "metadata": {},
   "outputs": [
    {
     "data": {
      "text/plain": [
       "<AxesSubplot:xlabel='CompetitionDistance', ylabel='Density'>"
      ]
     },
     "execution_count": 36,
     "metadata": {},
     "output_type": "execute_result"
    },
    {
     "data": {
      "image/png": "[encoded data removed]",
      "text/plain": [
       "<Figure size 576x432 with 1 Axes>"
      ]
     },
     "metadata": {
      "needs_background": "light"
     },
     "output_type": "display_data"
    }
   ],
   "source": [
    "\n",
    "#CompetitionDistance\n",
    "plt.figure(figsize = (8,6))\n",
    "sns.distplot(train_set.CompetitionDistance, color = 'violet')"
   ]
  },
  {
   "cell_type": "code",
   "execution_count": 38,
   "id": "12465e3d",
   "metadata": {},
   "outputs": [
    {
     "data": {
      "text/plain": [
       "<AxesSubplot:>"
      ]
     },
     "execution_count": 38,
     "metadata": {},
     "output_type": "execute_result"
    },
    {
     "data": {
      "image/png": "[encoded data removed]",
      "text/plain": [
       "<Figure size 432x288 with 1 Axes>"
      ]
     },
     "metadata": {
      "needs_background": "light"
     },
     "output_type": "display_data"
    }
   ],
   "source": [
    "train_set['CompetitionDistance'].plot()"
   ]
  },
  {
   "cell_type": "code",
   "execution_count": 44,
   "id": "e133a10a",
   "metadata": {},
   "outputs": [
    {
     "data": {
      "text/html": [
       "<div>\n",
       "<style scoped>\n",
       "    .dataframe tbody tr th:only-of-type {\n",
       "        vertical-align: middle;\n",
       "    }\n",
       "\n",
       "    .dataframe tbody tr th {\n",
       "        vertical-align: top;\n",
       "    }\n",
       "\n",
       "    .dataframe thead th {\n",
       "        text-align: right;\n",
       "    }\n",
       "</style>\n",
       "<table border=\"1\" class=\"dataframe\">\n",
       "  <thead>\n",
       "    <tr style=\"text-align: right;\">\n",
       "      <th></th>\n",
       "      <th>Sales</th>\n",
       "      <th>CompetitionDistance</th>\n",
       "    </tr>\n",
       "  </thead>\n",
       "  <tbody>\n",
       "    <tr>\n",
       "      <th>413247</th>\n",
       "      <td>10275</td>\n",
       "      <td>75860.0</td>\n",
       "    </tr>\n",
       "    <tr>\n",
       "      <th>413085</th>\n",
       "      <td>4493</td>\n",
       "      <td>75860.0</td>\n",
       "    </tr>\n",
       "    <tr>\n",
       "      <th>413083</th>\n",
       "      <td>4813</td>\n",
       "      <td>75860.0</td>\n",
       "    </tr>\n",
       "    <tr>\n",
       "      <th>413082</th>\n",
       "      <td>7182</td>\n",
       "      <td>75860.0</td>\n",
       "    </tr>\n",
       "    <tr>\n",
       "      <th>413081</th>\n",
       "      <td>5600</td>\n",
       "      <td>75860.0</td>\n",
       "    </tr>\n",
       "  </tbody>\n",
       "</table>\n",
       "</div>"
      ],
      "text/plain": [
       "        Sales  CompetitionDistance\n",
       "413247  10275              75860.0\n",
       "413085   4493              75860.0\n",
       "413083   4813              75860.0\n",
       "413082   7182              75860.0\n",
       "413081   5600              75860.0"
      ]
     },
     "execution_count": 44,
     "metadata": {},
     "output_type": "execute_result"
    }
   ],
   "source": [
    "train_set[['Sales', 'CompetitionDistance']].sort_values(['CompetitionDistance'], ascending=False).head(5)"
   ]
  },
  {
   "cell_type": "code",
   "execution_count": 48,
   "id": "1e396c6a",
   "metadata": {},
   "outputs": [
    {
     "data": {
      "text/html": [
       "<div>\n",
       "<style scoped>\n",
       "    .dataframe tbody tr th:only-of-type {\n",
       "        vertical-align: middle;\n",
       "    }\n",
       "\n",
       "    .dataframe tbody tr th {\n",
       "        vertical-align: top;\n",
       "    }\n",
       "\n",
       "    .dataframe thead th {\n",
       "        text-align: right;\n",
       "    }\n",
       "</style>\n",
       "<table border=\"1\" class=\"dataframe\">\n",
       "  <thead>\n",
       "    <tr style=\"text-align: right;\">\n",
       "      <th></th>\n",
       "      <th>Store</th>\n",
       "      <th>DayOfWeek</th>\n",
       "      <th>Customers</th>\n",
       "      <th>Open</th>\n",
       "      <th>Promo</th>\n",
       "      <th>SchoolHoliday</th>\n",
       "      <th>CompetitionDistance</th>\n",
       "      <th>CompetitionOpenSinceMonth</th>\n",
       "      <th>CompetitionOpenSinceYear</th>\n",
       "      <th>Promo2</th>\n",
       "      <th>Promo2SinceWeek</th>\n",
       "      <th>Promo2SinceYear</th>\n",
       "      <th>Month</th>\n",
       "      <th>Year</th>\n",
       "      <th>Day</th>\n",
       "      <th>WeekOfYear</th>\n",
       "      <th>weekday</th>\n",
       "      <th>Sales</th>\n",
       "    </tr>\n",
       "    <tr>\n",
       "      <th>StoreType</th>\n",
       "      <th></th>\n",
       "      <th></th>\n",
       "      <th></th>\n",
       "      <th></th>\n",
       "      <th></th>\n",
       "      <th></th>\n",
       "      <th></th>\n",
       "      <th></th>\n",
       "      <th></th>\n",
       "      <th></th>\n",
       "      <th></th>\n",
       "      <th></th>\n",
       "      <th></th>\n",
       "      <th></th>\n",
       "      <th></th>\n",
       "      <th></th>\n",
       "      <th></th>\n",
       "      <th></th>\n",
       "    </tr>\n",
       "  </thead>\n",
       "  <tbody>\n",
       "    <tr>\n",
       "      <th>a</th>\n",
       "      <td>560.079706</td>\n",
       "      <td>2.998278</td>\n",
       "      <td>659.034880</td>\n",
       "      <td>0.828598</td>\n",
       "      <td>0.381606</td>\n",
       "      <td>0.178405</td>\n",
       "      <td>5166.879362</td>\n",
       "      <td>7.124813</td>\n",
       "      <td>2008.423272</td>\n",
       "      <td>0.467501</td>\n",
       "      <td>23.307896</td>\n",
       "      <td>2011.402769</td>\n",
       "      <td>5.862808</td>\n",
       "      <td>2013.833030</td>\n",
       "      <td>15.703392</td>\n",
       "      <td>23.682925</td>\n",
       "      <td>0.715445</td>\n",
       "      <td>5738.179710</td>\n",
       "    </tr>\n",
       "    <tr>\n",
       "      <th>b</th>\n",
       "      <td>562.045610</td>\n",
       "      <td>2.998042</td>\n",
       "      <td>1987.720846</td>\n",
       "      <td>0.983133</td>\n",
       "      <td>0.381933</td>\n",
       "      <td>0.184207</td>\n",
       "      <td>1066.058117</td>\n",
       "      <td>6.821478</td>\n",
       "      <td>2007.880985</td>\n",
       "      <td>0.285913</td>\n",
       "      <td>22.792672</td>\n",
       "      <td>2011.512318</td>\n",
       "      <td>5.920720</td>\n",
       "      <td>2013.835692</td>\n",
       "      <td>15.705496</td>\n",
       "      <td>23.926216</td>\n",
       "      <td>0.715477</td>\n",
       "      <td>10058.837334</td>\n",
       "    </tr>\n",
       "    <tr>\n",
       "      <th>c</th>\n",
       "      <td>608.225402</td>\n",
       "      <td>2.998144</td>\n",
       "      <td>673.265894</td>\n",
       "      <td>0.825621</td>\n",
       "      <td>0.381789</td>\n",
       "      <td>0.180159</td>\n",
       "      <td>3516.699503</td>\n",
       "      <td>7.034902</td>\n",
       "      <td>2008.366516</td>\n",
       "      <td>0.498816</td>\n",
       "      <td>22.212321</td>\n",
       "      <td>2011.27014</td>\n",
       "      <td>5.895279</td>\n",
       "      <td>2013.834522</td>\n",
       "      <td>15.704560</td>\n",
       "      <td>23.819336</td>\n",
       "      <td>0.715463</td>\n",
       "      <td>5723.629246</td>\n",
       "    </tr>\n",
       "    <tr>\n",
       "      <th>d</th>\n",
       "      <td>533.561864</td>\n",
       "      <td>2.998552</td>\n",
       "      <td>501.434892</td>\n",
       "      <td>0.826987</td>\n",
       "      <td>0.381213</td>\n",
       "      <td>0.178130</td>\n",
       "      <td>6951.487191</td>\n",
       "      <td>7.267928</td>\n",
       "      <td>2008.630094</td>\n",
       "      <td>0.570473</td>\n",
       "      <td>23.250038</td>\n",
       "      <td>2011.370845</td>\n",
       "      <td>5.793517</td>\n",
       "      <td>2013.829844</td>\n",
       "      <td>15.700817</td>\n",
       "      <td>23.391826</td>\n",
       "      <td>0.715409</td>\n",
       "      <td>5641.819243</td>\n",
       "    </tr>\n",
       "  </tbody>\n",
       "</table>\n",
       "</div>"
      ],
      "text/plain": [
       "                Store  DayOfWeek    Customers      Open     Promo  \\\n",
       "StoreType                                                           \n",
       "a          560.079706   2.998278   659.034880  0.828598  0.381606   \n",
       "b          562.045610   2.998042  1987.720846  0.983133  0.381933   \n",
       "c          608.225402   2.998144   673.265894  0.825621  0.381789   \n",
       "d          533.561864   2.998552   501.434892  0.826987  0.381213   \n",
       "\n",
       "           SchoolHoliday  CompetitionDistance  CompetitionOpenSinceMonth  \\\n",
       "StoreType                                                                  \n",
       "a               0.178405          5166.879362                   7.124813   \n",
       "b               0.184207          1066.058117                   6.821478   \n",
       "c               0.180159          3516.699503                   7.034902   \n",
       "d               0.178130          6951.487191                   7.267928   \n",
       "\n",
       "           CompetitionOpenSinceYear    Promo2  Promo2SinceWeek  \\\n",
       "StoreType                                                        \n",
       "a                       2008.423272  0.467501        23.307896   \n",
       "b                       2007.880985  0.285913        22.792672   \n",
       "c                       2008.366516  0.498816        22.212321   \n",
       "d                       2008.630094  0.570473        23.250038   \n",
       "\n",
       "           Promo2SinceYear     Month         Year        Day  WeekOfYear  \\\n",
       "StoreType                                                                  \n",
       "a              2011.402769  5.862808  2013.833030  15.703392   23.682925   \n",
       "b              2011.512318  5.920720  2013.835692  15.705496   23.926216   \n",
       "c               2011.27014  5.895279  2013.834522  15.704560   23.819336   \n",
       "d              2011.370845  5.793517  2013.829844  15.700817   23.391826   \n",
       "\n",
       "            weekday         Sales  \n",
       "StoreType                          \n",
       "a          0.715445   5738.179710  \n",
       "b          0.715477  10058.837334  \n",
       "c          0.715463   5723.629246  \n",
       "d          0.715409   5641.819243  "
      ]
     },
     "execution_count": 48,
     "metadata": {},
     "output_type": "execute_result"
    }
   ],
   "source": [
    "train_set.groupby(['StoreType']).mean()"
   ]
  },
  {
   "cell_type": "code",
   "execution_count": null,
   "id": "a3832e2b",
   "metadata": {},
   "outputs": [],
   "source": []
  }
 ],
 "metadata": {
  "kernelspec": {
   "display_name": "Python 3",
   "language": "python",
   "name": "python3"
  },
  "language_info": {
   "codemirror_mode": {
    "name": "ipython",
    "version": 3
   },
   "file_extension": ".py",
   "mimetype": "text/x-python",
   "name": "python",
   "nbconvert_exporter": "python",
   "pygments_lexer": "ipython3",
   "version": "3.8.8"
  }
 },
 "nbformat": 4,
 "nbformat_minor": 5
}
